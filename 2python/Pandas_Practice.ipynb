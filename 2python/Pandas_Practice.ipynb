{
  "metadata": {
    "anaconda-cloud": {},
    "kernelspec": {
      "name": "python",
      "display_name": "Pyolite",
      "language": "python"
    },
    "language_info": {
      "codemirror_mode": {
        "name": "python",
        "version": 3
      },
      "file_extension": ".py",
      "mimetype": "text/x-python",
      "name": "python",
      "nbconvert_exporter": "python",
      "pygments_lexer": "ipython3",
      "version": "3.8"
    }
  },
  "nbformat_minor": 4,
  "nbformat": 4,
  "cells": [
    {
      "cell_type": "markdown",
      "source": "<p style=\"text-align:center\">\n    <a href=\"https://skills.network/?utm_medium=Exinfluencer&utm_source=Exinfluencer&utm_content=000026UJ&utm_term=10006555&utm_id=NA-SkillsNetwork-Channel-SkillsNetworkCoursesIBMDeveloperSkillsNetworkPY0101ENSkillsNetwork19487395-2022-01-01\" target=\"_blank\">\n    <img src=\"https://cf-courses-data.s3.us.cloud-object-storage.appdomain.cloud/assets/logos/SN_web_lightmode.png\" width=\"200\" alt=\"Skills Network Logo\"  />\n    </a>\n</p>\n\n# Practice Lab: Selecting data in a Dataframe\n\nEstimated time needed: **15** minutes\n\n## Objectives\n\nAfter completing this lab you will be able to:\n\n*   Use Pandas Library to create DataFrame and Series\n*   Locate data in the DataFrame using <code>loc()</code> and <code>iloc()</code> functions\n*   Use slicing\n",
      "metadata": {}
    },
    {
      "cell_type": "markdown",
      "source": "### Exercise 1: Pandas: DataFrame and Series\n\n**Pandas** is a popular library for data analysis built on top of the Python programming language. Pandas generally provide two data structures for manipulating data, They are:\n\n*   DataFrame\n*   Series\n\nA **DataFrame** is a two-dimensional data structure, i.e., data is aligned in a tabular fashion in rows and columns.\n\n*   A Pandas DataFrame will be created by loading the datasets from existing storage.\n*   Storage can be SQL Database, CSV file, an Excel file, etc.\n*   It can also be created from the lists, dictionary, and from a list of dictionaries.\n\n**Series** represents a one-dimensional array of indexed data.\nIt has two main components :\n\n1.  An array of actual data.\n2.  An associated array of indexes or data labels.\n\nThe index is used to access individual data values. You can also get a column of a dataframe as a **Series**. You can think of a Pandas series as a 1-D dataframe.\n",
      "metadata": {}
    },
    {
      "cell_type": "code",
      "source": "# let us import the Pandas Library\nimport pandas as pd",
      "metadata": {
        "trusted": true
      },
      "execution_count": 1,
      "outputs": []
    },
    {
      "cell_type": "markdown",
      "source": "Once you’ve imported pandas, you can then use the functions built in it to create and analyze data.\n",
      "metadata": {}
    },
    {
      "cell_type": "markdown",
      "source": "**In this practice lab, we will learn how to create a DataFrame out of a dictionary.**\n",
      "metadata": {}
    },
    {
      "cell_type": "markdown",
      "source": "Let us consider a dictionary 'x' with keys and values as shown below.\n\nWe then create a dataframe from the dictionary using the function pd.DataFrame(dict)\n",
      "metadata": {}
    },
    {
      "cell_type": "code",
      "source": "#Define a dictionary 'x'\n\nx = {'Name': ['Rose','John', 'Jane', 'Mary'], 'ID': [1, 2, 3, 4], 'Department': ['Architect Group', 'Software Group', 'Design Team', 'Infrastructure'], \n      'Salary':[100000, 80000, 50000, 60000]}\n\n#casting the dictionary to a DataFrame\ndf = pd.DataFrame(x)\n\n#display the result df\ndf",
      "metadata": {
        "trusted": true
      },
      "execution_count": 2,
      "outputs": [
        {
          "execution_count": 2,
          "output_type": "execute_result",
          "data": {
            "text/plain": "   Name  ID       Department  Salary\n0  Rose   1  Architect Group  100000\n1  John   2   Software Group   80000\n2  Jane   3      Design Team   50000\n3  Mary   4   Infrastructure   60000",
            "text/html": "<div>\n<style scoped>\n    .dataframe tbody tr th:only-of-type {\n        vertical-align: middle;\n    }\n\n    .dataframe tbody tr th {\n        vertical-align: top;\n    }\n\n    .dataframe thead th {\n        text-align: right;\n    }\n</style>\n<table border=\"1\" class=\"dataframe\">\n  <thead>\n    <tr style=\"text-align: right;\">\n      <th></th>\n      <th>Name</th>\n      <th>ID</th>\n      <th>Department</th>\n      <th>Salary</th>\n    </tr>\n  </thead>\n  <tbody>\n    <tr>\n      <th>0</th>\n      <td>Rose</td>\n      <td>1</td>\n      <td>Architect Group</td>\n      <td>100000</td>\n    </tr>\n    <tr>\n      <th>1</th>\n      <td>John</td>\n      <td>2</td>\n      <td>Software Group</td>\n      <td>80000</td>\n    </tr>\n    <tr>\n      <th>2</th>\n      <td>Jane</td>\n      <td>3</td>\n      <td>Design Team</td>\n      <td>50000</td>\n    </tr>\n    <tr>\n      <th>3</th>\n      <td>Mary</td>\n      <td>4</td>\n      <td>Infrastructure</td>\n      <td>60000</td>\n    </tr>\n  </tbody>\n</table>\n</div>"
          },
          "metadata": {}
        }
      ]
    },
    {
      "cell_type": "markdown",
      "source": "We can see the direct correspondence between the table. The keys correspond to the column labels and the values or lists corresponding to the rows.\n",
      "metadata": {}
    },
    {
      "cell_type": "markdown",
      "source": "#### Column Selection:\n\nTo select a column in Pandas DataFrame, we can either access the columns by calling them by their columns name.\n\nLet's Retrieve the data present in the <code>ID</code> column.\n",
      "metadata": {}
    },
    {
      "cell_type": "code",
      "source": "#Retrieving the \"ID\" column and assigning it to a variable x\nx = df[['ID']]\nx",
      "metadata": {
        "scrolled": true,
        "trusted": true
      },
      "execution_count": 3,
      "outputs": [
        {
          "execution_count": 3,
          "output_type": "execute_result",
          "data": {
            "text/plain": "   ID\n0   1\n1   2\n2   3\n3   4",
            "text/html": "<div>\n<style scoped>\n    .dataframe tbody tr th:only-of-type {\n        vertical-align: middle;\n    }\n\n    .dataframe tbody tr th {\n        vertical-align: top;\n    }\n\n    .dataframe thead th {\n        text-align: right;\n    }\n</style>\n<table border=\"1\" class=\"dataframe\">\n  <thead>\n    <tr style=\"text-align: right;\">\n      <th></th>\n      <th>ID</th>\n    </tr>\n  </thead>\n  <tbody>\n    <tr>\n      <th>0</th>\n      <td>1</td>\n    </tr>\n    <tr>\n      <th>1</th>\n      <td>2</td>\n    </tr>\n    <tr>\n      <th>2</th>\n      <td>3</td>\n    </tr>\n    <tr>\n      <th>3</th>\n      <td>4</td>\n    </tr>\n  </tbody>\n</table>\n</div>"
          },
          "metadata": {}
        }
      ]
    },
    {
      "cell_type": "markdown",
      "source": "Let's use the <code>type()</code> function and check the type of the variable.\n",
      "metadata": {}
    },
    {
      "cell_type": "code",
      "source": "#check the type of x\ntype(x)",
      "metadata": {
        "trusted": true
      },
      "execution_count": 4,
      "outputs": [
        {
          "execution_count": 4,
          "output_type": "execute_result",
          "data": {
            "text/plain": "pandas.core.frame.DataFrame"
          },
          "metadata": {}
        }
      ]
    },
    {
      "cell_type": "markdown",
      "source": "The output shows us that the type of the variable is a DataFrame object.\n",
      "metadata": {}
    },
    {
      "cell_type": "markdown",
      "source": "#### Access to multiple columns\n\nLet us retrieve the data for <code>Department</code>, <code>Salary</code> and <code>ID</code> columns\n",
      "metadata": {}
    },
    {
      "cell_type": "code",
      "source": "#Retrieving the Department, Salary and ID columns and assigning it to a variable z\n\nz = df[['Department','Salary','ID']]\nz",
      "metadata": {
        "trusted": true
      },
      "execution_count": 5,
      "outputs": [
        {
          "execution_count": 5,
          "output_type": "execute_result",
          "data": {
            "text/plain": "        Department  Salary  ID\n0  Architect Group  100000   1\n1   Software Group   80000   2\n2      Design Team   50000   3\n3   Infrastructure   60000   4",
            "text/html": "<div>\n<style scoped>\n    .dataframe tbody tr th:only-of-type {\n        vertical-align: middle;\n    }\n\n    .dataframe tbody tr th {\n        vertical-align: top;\n    }\n\n    .dataframe thead th {\n        text-align: right;\n    }\n</style>\n<table border=\"1\" class=\"dataframe\">\n  <thead>\n    <tr style=\"text-align: right;\">\n      <th></th>\n      <th>Department</th>\n      <th>Salary</th>\n      <th>ID</th>\n    </tr>\n  </thead>\n  <tbody>\n    <tr>\n      <th>0</th>\n      <td>Architect Group</td>\n      <td>100000</td>\n      <td>1</td>\n    </tr>\n    <tr>\n      <th>1</th>\n      <td>Software Group</td>\n      <td>80000</td>\n      <td>2</td>\n    </tr>\n    <tr>\n      <th>2</th>\n      <td>Design Team</td>\n      <td>50000</td>\n      <td>3</td>\n    </tr>\n    <tr>\n      <th>3</th>\n      <td>Infrastructure</td>\n      <td>60000</td>\n      <td>4</td>\n    </tr>\n  </tbody>\n</table>\n</div>"
          },
          "metadata": {}
        }
      ]
    },
    {
      "cell_type": "markdown",
      "source": "### Try it yourself\n",
      "metadata": {}
    },
    {
      "cell_type": "markdown",
      "source": "##### Problem 1: Create a dataframe to display the result as below:\n",
      "metadata": {}
    },
    {
      "cell_type": "markdown",
      "source": "![Student_dat![download.png](attachment:86ef3715-8361-443e-9089-c223461cc425.png)![download.png](attachment:457b8826-5585-4a1b-bc9b-45d55ea6558c.png)a.png](attachment:b2492347-4c00-4471-afb9-279007f648f9.png)<center>\n    <img src=\"https://cf-courses-data.s3.us.cloud-object-storage.appdomain.cloud/IBMDeveloperSkillsNetwork-PY0101EN-SkillsNetwork/labs/Module%204/images/Student_data.png\" width=\"300\" alt=\"Student Data\"  />\n</center>\n",
      "metadata": {},
      "attachments": {
        "b2492347-4c00-4471-afb9-279007f648f9.png": {
          "image/png": "[encoded data removed]"
        },
        "86ef3715-8361-443e-9089-c223461cc425.png": {
          "image/png": "[encoded data removed]"
        },
        "457b8826-5585-4a1b-bc9b-45d55ea6558c.png": {
          "image/png": "[encoded data removed]"
        }
      }
    },
    {
      "cell_type": "code",
      "source": "#write your code here\ndata = {'Student': ['David', 'Samuel', 'Terry', 'Evan'], 'Age': [27, 24, 22, 32], \n        'Country': ['UK', 'Canada', 'China', 'USA'], \n        'Course': ['Python', 'Data Structures', 'Machine Learning', 'Web Development'], \n        'Marks': [85, 72, 89, 76]}\ndf = pd.DataFrame(data)\ndf",
      "metadata": {
        "trusted": true
      },
      "execution_count": 8,
      "outputs": [
        {
          "execution_count": 8,
          "output_type": "execute_result",
          "data": {
            "text/plain": "  Student  Age Country            Course  Marks\n0   David   27      UK            Python     85\n1  Samuel   24  Canada   Data Structures     72\n2   Terry   22   China  Machine Learning     89\n3    Evan   32     USA   Web Development     76",
            "text/html": "<div>\n<style scoped>\n    .dataframe tbody tr th:only-of-type {\n        vertical-align: middle;\n    }\n\n    .dataframe tbody tr th {\n        vertical-align: top;\n    }\n\n    .dataframe thead th {\n        text-align: right;\n    }\n</style>\n<table border=\"1\" class=\"dataframe\">\n  <thead>\n    <tr style=\"text-align: right;\">\n      <th></th>\n      <th>Student</th>\n      <th>Age</th>\n      <th>Country</th>\n      <th>Course</th>\n      <th>Marks</th>\n    </tr>\n  </thead>\n  <tbody>\n    <tr>\n      <th>0</th>\n      <td>David</td>\n      <td>27</td>\n      <td>UK</td>\n      <td>Python</td>\n      <td>85</td>\n    </tr>\n    <tr>\n      <th>1</th>\n      <td>Samuel</td>\n      <td>24</td>\n      <td>Canada</td>\n      <td>Data Structures</td>\n      <td>72</td>\n    </tr>\n    <tr>\n      <th>2</th>\n      <td>Terry</td>\n      <td>22</td>\n      <td>China</td>\n      <td>Machine Learning</td>\n      <td>89</td>\n    </tr>\n    <tr>\n      <th>3</th>\n      <td>Evan</td>\n      <td>32</td>\n      <td>USA</td>\n      <td>Web Development</td>\n      <td>76</td>\n    </tr>\n  </tbody>\n</table>\n</div>"
          },
          "metadata": {}
        }
      ]
    },
    {
      "cell_type": "markdown",
      "source": "<details><summary>Click here for the solution</summary>\n\n```python\na = {'Student':['David', 'Samuel', 'Terry', 'Evan'],\n     'Age':['27', '24', '22', '32'],\n     'Country':['UK', 'Canada', 'China', 'USA'],\n     'Course':['Python','Data Structures','Machine Learning','Web Development'],\n     'Marks':['85','72','89','76']}\ndf1 = pd.DataFrame(a)\ndf1\n    \n```\n\n</details>\n",
      "metadata": {}
    },
    {
      "cell_type": "markdown",
      "source": "##### Problem 2: Retrieve the Marks column and assign it to a variable b\n",
      "metadata": {}
    },
    {
      "cell_type": "code",
      "source": "#write your code here\nb = df[['Marks']]\nb",
      "metadata": {
        "trusted": true
      },
      "execution_count": 12,
      "outputs": [
        {
          "execution_count": 12,
          "output_type": "execute_result",
          "data": {
            "text/plain": "   Marks\n0     85\n1     72\n2     89\n3     76",
            "text/html": "<div>\n<style scoped>\n    .dataframe tbody tr th:only-of-type {\n        vertical-align: middle;\n    }\n\n    .dataframe tbody tr th {\n        vertical-align: top;\n    }\n\n    .dataframe thead th {\n        text-align: right;\n    }\n</style>\n<table border=\"1\" class=\"dataframe\">\n  <thead>\n    <tr style=\"text-align: right;\">\n      <th></th>\n      <th>Marks</th>\n    </tr>\n  </thead>\n  <tbody>\n    <tr>\n      <th>0</th>\n      <td>85</td>\n    </tr>\n    <tr>\n      <th>1</th>\n      <td>72</td>\n    </tr>\n    <tr>\n      <th>2</th>\n      <td>89</td>\n    </tr>\n    <tr>\n      <th>3</th>\n      <td>76</td>\n    </tr>\n  </tbody>\n</table>\n</div>"
          },
          "metadata": {}
        }
      ]
    },
    {
      "cell_type": "markdown",
      "source": "<details><summary>Click here for the solution</summary>\n\n```python\nb = df1[['Marks']]\nb\n    \n```\n\n</details>\n",
      "metadata": {}
    },
    {
      "cell_type": "markdown",
      "source": "##### Problem 3: Retrieve the Country and Course columns and assign it to a variable c\n",
      "metadata": {}
    },
    {
      "cell_type": "code",
      "source": "#write your code here\nc = df[['Country', 'Course']]\nc",
      "metadata": {
        "trusted": true
      },
      "execution_count": 14,
      "outputs": [
        {
          "execution_count": 14,
          "output_type": "execute_result",
          "data": {
            "text/plain": "  Country            Course\n0      UK            Python\n1  Canada   Data Structures\n2   China  Machine Learning\n3     USA   Web Development",
            "text/html": "<div>\n<style scoped>\n    .dataframe tbody tr th:only-of-type {\n        vertical-align: middle;\n    }\n\n    .dataframe tbody tr th {\n        vertical-align: top;\n    }\n\n    .dataframe thead th {\n        text-align: right;\n    }\n</style>\n<table border=\"1\" class=\"dataframe\">\n  <thead>\n    <tr style=\"text-align: right;\">\n      <th></th>\n      <th>Country</th>\n      <th>Course</th>\n    </tr>\n  </thead>\n  <tbody>\n    <tr>\n      <th>0</th>\n      <td>UK</td>\n      <td>Python</td>\n    </tr>\n    <tr>\n      <th>1</th>\n      <td>Canada</td>\n      <td>Data Structures</td>\n    </tr>\n    <tr>\n      <th>2</th>\n      <td>China</td>\n      <td>Machine Learning</td>\n    </tr>\n    <tr>\n      <th>3</th>\n      <td>USA</td>\n      <td>Web Development</td>\n    </tr>\n  </tbody>\n</table>\n</div>"
          },
          "metadata": {}
        }
      ]
    },
    {
      "cell_type": "markdown",
      "source": "<details><summary>Click here for the solution</summary>\n\n```python\nc = df1[['Country','Course']]\nc\n    \n```\n\n</details>\n",
      "metadata": {}
    },
    {
      "cell_type": "markdown",
      "source": "#### To view the column as a series, just use one bracket:\n",
      "metadata": {}
    },
    {
      "cell_type": "code",
      "source": "# Get the Student column as a series Object\n\nx = df['Student']\nx",
      "metadata": {
        "trusted": true
      },
      "execution_count": 16,
      "outputs": [
        {
          "execution_count": 16,
          "output_type": "execute_result",
          "data": {
            "text/plain": "0     David\n1    Samuel\n2     Terry\n3      Evan\nName: Student, dtype: object"
          },
          "metadata": {}
        }
      ]
    },
    {
      "cell_type": "code",
      "source": "#check the type of x\ntype(x)",
      "metadata": {},
      "execution_count": null,
      "outputs": []
    },
    {
      "cell_type": "markdown",
      "source": "The output shows us that the type of the variable is a Series object.\n",
      "metadata": {}
    },
    {
      "cell_type": "markdown",
      "source": "### Exercise 2: <code>loc()</code> and <code>iloc()</code> functions\n\n<code>loc()</code> is a label-based data selecting method which means that we have to pass the name of the row or column that we want to select. This method includes the last element of the range passed in it.\n\nSimple syntax for your understanding:\n\n*   loc\\[row_label, column_label]\n\n<code>iloc()</code> is an indexed-based selecting method which means that we have to pass integer index in the method to select a specific row/column. This method does not include the last element of the range passed in it.\n\nSimple syntax for your understanding:\n\n*   iloc\\[row_index, column_index]\n\n<h4 id=\"data\">Let us see some examples on the same.</h4>\n",
      "metadata": {}
    },
    {
      "cell_type": "code",
      "source": "# Access the value on the first row and the first column\n\ndf.iloc[0, 0]",
      "metadata": {},
      "execution_count": null,
      "outputs": []
    },
    {
      "cell_type": "code",
      "source": "# Access the value on the first row and the third column\n\ndf.iloc[0,2]",
      "metadata": {},
      "execution_count": null,
      "outputs": []
    },
    {
      "cell_type": "code",
      "source": "# Access the column using the name\n\ndf.loc[0, 'Salary']",
      "metadata": {},
      "execution_count": null,
      "outputs": []
    },
    {
      "cell_type": "markdown",
      "source": "Let us create a new dataframe called 'df2' and assign 'df' to it. Now, let us set the \"Name\" column as an index column using the method set_index().\n",
      "metadata": {}
    },
    {
      "cell_type": "code",
      "source": "df2=df\ndf2=df2.set_index(\"Name\")",
      "metadata": {},
      "execution_count": null,
      "outputs": []
    },
    {
      "cell_type": "code",
      "source": "#To display the first 5 rows of new dataframe\ndf2.head()",
      "metadata": {},
      "execution_count": null,
      "outputs": []
    },
    {
      "cell_type": "code",
      "source": "#Now, let us access the column using the name\ndf2.loc['Jane', 'Salary']",
      "metadata": {},
      "execution_count": null,
      "outputs": []
    },
    {
      "cell_type": "markdown",
      "source": "### Try it yourself\n",
      "metadata": {}
    },
    {
      "cell_type": "markdown",
      "source": "Use the <code>loc()</code> function,to get the Department of Jane in the newly created dataframe df2.\n",
      "metadata": {}
    },
    {
      "cell_type": "code",
      "source": "#write your code here\n",
      "metadata": {},
      "execution_count": null,
      "outputs": []
    },
    {
      "cell_type": "markdown",
      "source": "<details><summary>Click here for the solution</summary>\n\n```python\ndf2.loc['Jane', 'Department']\n    \n```\n\n</details>\n",
      "metadata": {}
    },
    {
      "cell_type": "markdown",
      "source": "Use the <code>iloc()</code> function,to get the Salary of Mary in the newly created dataframe df2.\n",
      "metadata": {}
    },
    {
      "cell_type": "code",
      "source": "#write your code here\n",
      "metadata": {},
      "execution_count": null,
      "outputs": []
    },
    {
      "cell_type": "markdown",
      "source": "<details><summary>Click here for the solution</summary>\n\n```python\ndf2.iloc[3,2]\n    \n```\n\n</details>\n",
      "metadata": {}
    },
    {
      "cell_type": "markdown",
      "source": "### Exercise 3: Slicing\n\nSlicing uses the \\[] operator to select a set of rows and/or columns from a DataFrame.\n\nTo slice out a set of rows, you use this syntax: data\\[start:stop],\n\nhere the start represents the index from where to consider, and stop represents the index one step BEYOND the row you want to select. You can perform slicing using both the index and the name of the column.\n\n> NOTE: When slicing in pandas, the start bound is included in the output.\n\nSo if you want to select rows 0, 1, and 2 your code would look like this: df.iloc\\[0:3].\n\nIt means you are telling Python to start at index 0 and select rows 0, 1, 2 up to but not including 3.\n\n> NOTE: Labels must be found in the DataFrame or you will get a KeyError.\n\nIndexing by labels(i.e. using <code>loc()</code>) differs from indexing by integers (i.e. using <code>iloc()</code>). With <code>loc()</code>, both the start bound and the stop bound are inclusive. When using <code>loc()</code>, integers can be used, but the integers refer to the index label and not the position.\n\nFor example, using <code>loc()</code> and select 1:4 will get a different result than using <code>iloc()</code> to select rows 1:4.\n\n<h4 id=\"data\">We can also select a specific data value using a row and column location within the DataFrame and iloc indexing.\n",
      "metadata": {}
    },
    {
      "cell_type": "code",
      "source": "# let us do the slicing using old dataframe df\n\ndf.iloc[0:2, 0:3]",
      "metadata": {},
      "execution_count": null,
      "outputs": []
    },
    {
      "cell_type": "code",
      "source": "#let us do the slicing using loc() function on old dataframe df where index column is having labels as 0,1,2\ndf.loc[0:2,'ID':'Department']",
      "metadata": {},
      "execution_count": null,
      "outputs": []
    },
    {
      "cell_type": "code",
      "source": "#let us do the slicing using loc() function on new dataframe df2 where index column is Name having labels: Rose, John and Jane\ndf2.loc['Rose':'Jane', 'ID':'Department']",
      "metadata": {},
      "execution_count": null,
      "outputs": []
    },
    {
      "cell_type": "markdown",
      "source": "<h2 id=\"quiz\">Try it yourself</h2>\n",
      "metadata": {}
    },
    {
      "cell_type": "markdown",
      "source": "using <code>loc()</code> function, do slicing on old dataframe df to retrieve the Name, ID and department of index column having labels as 2,3\n",
      "metadata": {}
    },
    {
      "cell_type": "code",
      "source": "# Write your code below and press Shift+Enter to execute\n",
      "metadata": {},
      "execution_count": null,
      "outputs": []
    },
    {
      "cell_type": "markdown",
      "source": "<details><summary>Click here for the solution</summary>\n\n```python\ndf.loc[2:3,'Name':'Department']\n    \n```\n\n</details>\n",
      "metadata": {}
    },
    {
      "cell_type": "markdown",
      "source": "<h3 id=\"quiz\">Congratulations, you have completed this lesson and the practice lab on Pandas</h3>\n",
      "metadata": {}
    },
    {
      "cell_type": "markdown",
      "source": "## Author(s):\n\n[Appalabhaktula Hema](https://www.linkedin.com/in/hema-a-39002b128/?utm_medium=Exinfluencer&utm_source=Exinfluencer&utm_content=000026UJ&utm_term=10006555&utm_id=NA-SkillsNetwork-Channel-SkillsNetworkCoursesIBMDeveloperSkillsNetworkPY0101ENSkillsNetwork19487395-2022-01-01)\n\n## Change Log\n\n| Date (YYYY-MM-DD) | Version | Changed By          | Change Description      |\n| ----------------- | ------- | ------------------- | ----------------------- |\n| 2022-03-31        | 0.1     | Appalabhaktula Hema | Created initial version |\n\n<hr/>\n\n## <h3 align=\"center\"> © IBM Corporation 2022. All rights reserved. <h3/>\n",
      "metadata": {}
    }
  ]
}